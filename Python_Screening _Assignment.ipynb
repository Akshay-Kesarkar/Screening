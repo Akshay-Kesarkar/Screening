{
 "cells": [
  {
   "cell_type": "code",
   "execution_count": 2,
   "id": "9f01a789",
   "metadata": {},
   "outputs": [
    {
     "name": "stdout",
     "output_type": "stream",
     "text": [
      "creating file named example.txt with default content\n"
     ]
    }
   ],
   "source": [
    "import os\n",
    "\n",
    "def replacing():\n",
    "    with open(\"example.txt\", 'r') as f:\n",
    "        data = f.read()\n",
    "        data = data.replace('placement', 'screening')\n",
    "    with open(\"example.txt\", 'w') as f:\n",
    "        f.write(data)\n",
    "\n",
    "\n",
    "def creating():\n",
    "    with open(\"example.txt\", 'w') as f:\n",
    "        f.write(\"This is a placement assignment\")\n",
    "\n",
    "\n",
    "if os.path.isfile(\"example.txt\"):\n",
    "    replacing()\n",
    "else:\n",
    "    print(\"creating file named example.txt with default content\")\n",
    "    creating()\n",
    "    replacing()"
   ]
  },
  {
   "cell_type": "code",
   "execution_count": 3,
   "id": "ed606db2",
   "metadata": {},
   "outputs": [
    {
     "data": {
      "text/plain": [
       "'This is a screening assignment'"
      ]
     },
     "execution_count": 3,
     "metadata": {},
     "output_type": "execute_result"
    }
   ],
   "source": [
    "f = open('example.txt','r')\n",
    "f.read()"
   ]
  },
  {
   "cell_type": "code",
   "execution_count": 16,
   "id": "8da412c8",
   "metadata": {},
   "outputs": [
    {
     "name": "stdout",
     "output_type": "stream",
     "text": [
      "I have 3 sides\n",
      "I have 4 sides\n",
      "I have 5 sides\n",
      "I have 6 sides\n"
     ]
    }
   ],
   "source": [
    "# Python program showing\n",
    "# abstract base class work\n",
    " # Eg 1\n",
    "from abc import ABC, abstractmethod\n",
    " \n",
    "class Polygon(ABC):\n",
    " \n",
    "    @abstractmethod\n",
    "    def noofsides(self):\n",
    "        pass\n",
    "    \n",
    "\n",
    "class Triangle(Polygon):\n",
    " \n",
    "    # overriding abstract method\n",
    "    def noofsides(self):\n",
    "        print(\"I have 3 sides\")\n",
    "\n",
    "class Pentagon(Polygon):\n",
    " \n",
    "    # overriding abstract method\n",
    "    def noofsides(self):\n",
    "        print(\"I have 5 sides\")\n",
    "\n",
    "class Hexagon(Polygon):\n",
    " \n",
    "    # overriding abstract method\n",
    "    def noofsides(self):\n",
    "        print(\"I have 6 sides\")\n",
    "\n",
    "class Quadrilateral(Polygon):\n",
    " \n",
    "    # overriding abstract method\n",
    "    def noofsides(self):\n",
    "        print(\"I have 4 sides\")\n",
    "\n",
    "# Driver code\n",
    "T = Triangle()\n",
    "T.noofsides()\n",
    " \n",
    "Q = Quadrilateral()\n",
    "Q.noofsides()\n",
    " \n",
    "P = Pentagon()\n",
    "P.noofsides()\n",
    " \n",
    "H = Hexagon()\n",
    "H.noofsides()"
   ]
  },
  {
   "cell_type": "code",
   "execution_count": 17,
   "id": "53f8269c",
   "metadata": {},
   "outputs": [
    {
     "name": "stdout",
     "output_type": "stream",
     "text": [
      "enter first number: 12\n",
      "enter second number: 6\n",
      "addition of entered value is 18\n",
      "Substraction of entered value is 6\n",
      "Multiplication of entered value is 72\n",
      "Division of entered value is 2.0\n"
     ]
    }
   ],
   "source": [
    "# Eg 2 for abstract base class work\n",
    "\n",
    "from abc import ABC, abstractmethod\n",
    "\n",
    "class Math(ABC):\n",
    "    @abstractmethod\n",
    "    def process(self):\n",
    "        pass\n",
    "\n",
    "class Addition(Math):\n",
    "\n",
    "    def __init__(self, val1, val2):\n",
    "        self.val1 = val1\n",
    "        self.val2 = val2\n",
    "\n",
    "    def process(self):\n",
    "        try:\n",
    "            return (self.val1 + self.val2)\n",
    "        except Exception as e:\n",
    "            print(e)\n",
    "\n",
    "class Substraction(Math):\n",
    "\n",
    "    def __init__(self, val1, val2):\n",
    "        self.val1 = val1\n",
    "        self.val2 = val2\n",
    "\n",
    "    def process(self):\n",
    "        try:\n",
    "            return (self.val1 - self.val2)\n",
    "        except Exception as e:\n",
    "            print(e)\n",
    "\n",
    "class Multiplication(Math):\n",
    "\n",
    "    def __init__(self,val1,val2):\n",
    "        self.val1=val1\n",
    "        self.val2=val2\n",
    "    def process(self):\n",
    "        try:\n",
    "            return(self.val1 * self.val2)\n",
    "        except Exception as e:\n",
    "            print(e)\n",
    "\n",
    "class Division(Math):\n",
    "\n",
    "    def __init__(self, val1, val2):\n",
    "        self.val1 = val1\n",
    "        self.val2 = val2\n",
    "\n",
    "    def process(self):\n",
    "        try:\n",
    "            return (self.val1 / self.val2)\n",
    "        except Exception as e:\n",
    "            print(e)\n",
    "\n",
    "x=int(input(\"enter first number: \"))\n",
    "y=int(input(\"enter second number: \"))\n",
    "a=Addition(x,y)\n",
    "b=Substraction(x,y)\n",
    "c=Multiplication(x,y)\n",
    "d=Division(x,y)\n",
    "\n",
    "\n",
    "print('addition of entered value is' ,a.process())\n",
    "print('Substraction of entered value is' ,b.process())\n",
    "print('Multiplication of entered value is' ,c.process())\n",
    "print('Division of entered value is' ,d.process())"
   ]
  },
  {
   "cell_type": "code",
   "execution_count": 9,
   "id": "cd1bcbd9",
   "metadata": {},
   "outputs": [
    {
     "name": "stdout",
     "output_type": "stream",
     "text": [
      "3\n",
      "2\n",
      "1.5\n"
     ]
    }
   ],
   "source": [
    "# Eg for Multiple Inheritance\n",
    "# Performing Addition,Multiplication,Division using Multiple Inheritance\n",
    "\n",
    "class Calculation1:  #parent Class\n",
    "    def Summation(self,a,b):  \n",
    "        return a+b;  \n",
    "class Calculation2:  \n",
    "    def Multiplication(self,a,b):  #parent Class\n",
    "        return a*b;  \n",
    "\n",
    "# Deriving a child class from the two parent classes\n",
    "class Derived(Calculation1,Calculation2):  \n",
    "    def Divide(self,a,b):  \n",
    "        return a/b;  \n",
    "d = Derived()  \n",
    "print(d.Summation(1,2))  \n",
    "print(d.Multiplication(1,2))  \n",
    "print(d.Divide(3,2))  "
   ]
  },
  {
   "cell_type": "code",
   "execution_count": 4,
   "id": "a25c136a",
   "metadata": {},
   "outputs": [],
   "source": [
    "# Eg for Decorator\n",
    "#Decorating Functions with Parameters\n",
    "def smart_divide(func):\n",
    "    def inner(a, b):\n",
    "        print(\"I am going to divide\", a, \"and\", b)\n",
    "        if b == 0:\n",
    "            print(\"Whoops! cannot divide\")\n",
    "            return\n",
    "\n",
    "        return func(a, b)\n",
    "    return inner\n",
    "\n",
    "@smart_divide  #decorator\n",
    "def divide(a, b):\n",
    "    print(a/b)"
   ]
  },
  {
   "cell_type": "code",
   "execution_count": 5,
   "id": "38d920fd",
   "metadata": {},
   "outputs": [
    {
     "name": "stdout",
     "output_type": "stream",
     "text": [
      "I am going to divide 2 and 5\n",
      "0.4\n"
     ]
    }
   ],
   "source": [
    "divide(2,5)"
   ]
  },
  {
   "cell_type": "code",
   "execution_count": 6,
   "id": "81a1c7ab",
   "metadata": {},
   "outputs": [
    {
     "name": "stdout",
     "output_type": "stream",
     "text": [
      "I am going to divide 2 and 0\n",
      "Whoops! cannot divide\n"
     ]
    }
   ],
   "source": [
    "divide(2,0)"
   ]
  },
  {
   "cell_type": "code",
   "execution_count": null,
   "id": "a8fb832b",
   "metadata": {},
   "outputs": [],
   "source": []
  }
 ],
 "metadata": {
  "kernelspec": {
   "display_name": "Python 3 (ipykernel)",
   "language": "python",
   "name": "python3"
  },
  "language_info": {
   "codemirror_mode": {
    "name": "ipython",
    "version": 3
   },
   "file_extension": ".py",
   "mimetype": "text/x-python",
   "name": "python",
   "nbconvert_exporter": "python",
   "pygments_lexer": "ipython3",
   "version": "3.9.7"
  }
 },
 "nbformat": 4,
 "nbformat_minor": 5
}
